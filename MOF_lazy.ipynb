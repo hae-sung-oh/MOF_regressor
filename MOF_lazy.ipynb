{
  "cells": [
    {
      "cell_type": "code",
      "execution_count": 6,
      "metadata": {
        "id": "d-iJ3PEr4Pzy"
      },
      "outputs": [],
      "source": [
        "import csv\n",
        "import numpy as np\n",
        "from import_data import import_data\n",
        "from lazypredict.Supervised import LazyRegressor\n",
        "from sklearn.model_selection import train_test_split\n",
        "import dataframe_image as dfi"
      ]
    },
    {
      "cell_type": "code",
      "execution_count": 5,
      "metadata": {
        "colab": {
          "base_uri": "https://localhost:8080/"
        },
        "id": "x6bWwWh-4Pz0",
        "outputId": "20691ad1-5d62-4cc0-a5c5-ec0cc794814c"
      },
      "outputs": [
        {
          "name": "stdout",
          "output_type": "stream",
          "text": [
            "==============================\n",
            "Import data: toacco_geo_chem_erase_mit_order.csv\n",
            "Geometry data shape: (2960, 14)\n",
            "Bulk data shape: (2960,)\n",
            "Shear data shape: (2960,)\n",
            "==============================\n"
          ]
        }
      ],
      "source": [
        "file_names = ['toacco_geo_chem_erase_mit_order.csv', \n",
        "              'toacco_geo_chem_mit_order.csv', \n",
        "              'toacco_geo2_chem_mit_order.csv']\n",
        "\n",
        "data_x, bulk_y, shear_y = import_data(file_names[0])"
      ]
    },
    {
      "cell_type": "code",
      "execution_count": 7,
      "metadata": {
        "id": "nugUqNBsz4X1"
      },
      "outputs": [],
      "source": [
        "x_train1, x_test1, y_train1, y_test1 = train_test_split(data_x, bulk_y, test_size=0.2, random_state=0)\n",
        "x_train2, x_test2, y_train2, y_test2 = train_test_split(data_x, shear_y, test_size=0.2, random_state=0)"
      ]
    },
    {
      "cell_type": "code",
      "execution_count": 8,
      "metadata": {
        "colab": {
          "base_uri": "https://localhost:8080/"
        },
        "id": "Oex8ief34Pz2",
        "outputId": "4a1dc539-8245-42c4-845f-66e2abd9e611"
      },
      "outputs": [
        {
          "name": "stderr",
          "output_type": "stream",
          "text": [
            " 90%|█████████ | 38/42 [05:14<00:50, 12.62s/it]"
          ]
        },
        {
          "name": "stdout",
          "output_type": "stream",
          "text": [
            "[04:54:25] WARNING: /workspace/src/objective/regression_obj.cu:152: reg:linear is now deprecated in favor of reg:squarederror.\n"
          ]
        },
        {
          "name": "stderr",
          "output_type": "stream",
          "text": [
            "100%|██████████| 42/42 [05:15<00:00,  7.51s/it]\n"
          ]
        },
        {
          "name": "stdout",
          "output_type": "stream",
          "text": [
            "'tuple' object has no attribute '__name__'\n",
            "Invalid Regressor(s)\n"
          ]
        },
        {
          "name": "stderr",
          "output_type": "stream",
          "text": [
            " 90%|█████████ | 38/42 [04:42<00:42, 10.57s/it]"
          ]
        },
        {
          "name": "stdout",
          "output_type": "stream",
          "text": [
            "[04:59:08] WARNING: /workspace/src/objective/regression_obj.cu:152: reg:linear is now deprecated in favor of reg:squarederror.\n"
          ]
        },
        {
          "name": "stderr",
          "output_type": "stream",
          "text": [
            "100%|██████████| 42/42 [04:42<00:00,  6.73s/it]\n"
          ]
        }
      ],
      "source": [
        "lazy_reg = LazyRegressor(verbose=0, ignore_warnings=False, custom_metric=None)\n",
        "models_reg1, pred_reg1 = lazy_reg.fit(x_train1, x_test1, y_train1, y_test1)\n",
        "models_reg2, pred_reg2 = lazy_reg.fit(x_train2, x_test2, y_train2, y_test2)"
      ]
    },
    {
      "cell_type": "code",
      "execution_count": 14,
      "metadata": {
        "id": "hzYa_kLcz3mb"
      },
      "outputs": [],
      "source": [
        "dfi.export(models_reg1, './models_regression_bulk.png')\n",
        "dfi.export(models_reg2, './models_regression_shear.png')"
      ]
    }
  ],
  "metadata": {
    "accelerator": "GPU",
    "colab": {
      "provenance": []
    },
    "gpuClass": "standard",
    "kernelspec": {
      "display_name": "Python 3.10.8 ('mofreg')",
      "language": "python",
      "name": "python3"
    },
    "language_info": {
      "codemirror_mode": {
        "name": "ipython",
        "version": 3
      },
      "file_extension": ".py",
      "mimetype": "text/x-python",
      "name": "python",
      "nbconvert_exporter": "python",
      "pygments_lexer": "ipython3",
      "version": "3.10.8"
    },
    "orig_nbformat": 4,
    "vscode": {
      "interpreter": {
        "hash": "d5eb21fefaf5c7c224bf0d0ab3d9641d98fc11cedec4e8ff21243e37f04b7525"
      }
    }
  },
  "nbformat": 4,
  "nbformat_minor": 0
}
